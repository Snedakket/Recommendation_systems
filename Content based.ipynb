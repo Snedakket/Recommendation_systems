{
 "cells": [
  {
   "cell_type": "code",
   "execution_count": null,
   "id": "1899f8a5",
   "metadata": {},
   "outputs": [],
   "source": [
    "# Рекомендательная система на основе контента. \n",
    "# Принцип работы - использует описание продукта, чтобы рекомендовать следующий наиболее похожий продукт.\n",
    "# Рекомендательная система на основе контента использует функции продукта или ключевые слова в описании, чтобы найти \n",
    "# сходство между элементами."
   ]
  },
  {
   "cell_type": "code",
   "execution_count": 4,
   "id": "ac77094c",
   "metadata": {},
   "outputs": [
    {
     "data": {
      "text/html": [
       "<div>\n",
       "<style scoped>\n",
       "    .dataframe tbody tr th:only-of-type {\n",
       "        vertical-align: middle;\n",
       "    }\n",
       "\n",
       "    .dataframe tbody tr th {\n",
       "        vertical-align: top;\n",
       "    }\n",
       "\n",
       "    .dataframe thead th {\n",
       "        text-align: right;\n",
       "    }\n",
       "</style>\n",
       "<table border=\"1\" class=\"dataframe\">\n",
       "  <thead>\n",
       "    <tr style=\"text-align: right;\">\n",
       "      <th></th>\n",
       "      <th>rating</th>\n",
       "      <th>movie</th>\n",
       "      <th>rating_ball</th>\n",
       "      <th>overview</th>\n",
       "      <th>director</th>\n",
       "      <th>screenwriter</th>\n",
       "    </tr>\n",
       "  </thead>\n",
       "  <tbody>\n",
       "    <tr>\n",
       "      <th>0</th>\n",
       "      <td>0</td>\n",
       "      <td>Побег из Шоушенка</td>\n",
       "      <td>9.111</td>\n",
       "      <td>Бухгалтер Энди Дюфрейн обвинён в убийстве собс...</td>\n",
       "      <td>Фрэнк Дарабонт</td>\n",
       "      <td>Фрэнк Дарабонт;  Стивен Кинг</td>\n",
       "    </tr>\n",
       "    <tr>\n",
       "      <th>1</th>\n",
       "      <td>1</td>\n",
       "      <td>Зеленая миля</td>\n",
       "      <td>9.062</td>\n",
       "      <td>Пол Эджкомб — начальник блока смертников в тюр...</td>\n",
       "      <td>Фрэнк Дарабонт</td>\n",
       "      <td>Фрэнк Дарабонт;  Стивен Кинг</td>\n",
       "    </tr>\n",
       "    <tr>\n",
       "      <th>2</th>\n",
       "      <td>2</td>\n",
       "      <td>Форрест Гамп</td>\n",
       "      <td>8.913</td>\n",
       "      <td>От лица главного героя Форреста Гампа; слабоум...</td>\n",
       "      <td>Роберт Земекис</td>\n",
       "      <td>Эрик Рот;  Уинстон Грум</td>\n",
       "    </tr>\n",
       "    <tr>\n",
       "      <th>3</th>\n",
       "      <td>3</td>\n",
       "      <td>Список Шиндлера</td>\n",
       "      <td>8.817</td>\n",
       "      <td>Фильм рассказывает реальную историю загадочног...</td>\n",
       "      <td>Стивен Спилберг</td>\n",
       "      <td>Стивен Зеллиан;  Томас Кенилли</td>\n",
       "    </tr>\n",
       "    <tr>\n",
       "      <th>4</th>\n",
       "      <td>4</td>\n",
       "      <td>1+1</td>\n",
       "      <td>8.807</td>\n",
       "      <td>Пострадав в результате несчастного случая; бог...</td>\n",
       "      <td>Оливье Накаш;  Эрик Толедано</td>\n",
       "      <td>Оливье Накаш;  Филипп Поццо ди Борго;  Эрик Т...</td>\n",
       "    </tr>\n",
       "  </tbody>\n",
       "</table>\n",
       "</div>"
      ],
      "text/plain": [
       "   rating               movie  rating_ball  \\\n",
       "0       0  Побег из Шоушенка         9.111   \n",
       "1       1       Зеленая миля         9.062   \n",
       "2       2       Форрест Гамп         8.913   \n",
       "3       3    Список Шиндлера         8.817   \n",
       "4       4                1+1         8.807   \n",
       "\n",
       "                                            overview  \\\n",
       "0  Бухгалтер Энди Дюфрейн обвинён в убийстве собс...   \n",
       "1  Пол Эджкомб — начальник блока смертников в тюр...   \n",
       "2  От лица главного героя Форреста Гампа; слабоум...   \n",
       "3  Фильм рассказывает реальную историю загадочног...   \n",
       "4  Пострадав в результате несчастного случая; бог...   \n",
       "\n",
       "                        director  \\\n",
       "0                 Фрэнк Дарабонт   \n",
       "1                 Фрэнк Дарабонт   \n",
       "2                 Роберт Земекис   \n",
       "3                Стивен Спилберг   \n",
       "4   Оливье Накаш;  Эрик Толедано   \n",
       "\n",
       "                                        screenwriter  \n",
       "0                       Фрэнк Дарабонт;  Стивен Кинг  \n",
       "1                       Фрэнк Дарабонт;  Стивен Кинг  \n",
       "2                            Эрик Рот;  Уинстон Грум  \n",
       "3                     Стивен Зеллиан;  Томас Кенилли  \n",
       "4   Оливье Накаш;  Филипп Поццо ди Борго;  Эрик Т...  "
      ]
     },
     "execution_count": 4,
     "metadata": {},
     "output_type": "execute_result"
    }
   ],
   "source": [
    "import pandas as pd\n",
    "from sklearn.metrics.pairwise import linear_kernel #используется для вычисления меры сходства между двумя переменными.\n",
    "from sklearn.feature_extraction.text import TfidfVectorizer #статистическая мера, используемая для оценки важности слова \n",
    "#в контексте. Вес слова пропорционален частоте употребления этого слова в документе и обратно пропорционален частоте \n",
    "#употребления слова во всех документах коллекции.\n",
    "\n",
    "book_description = pd.read_csv('D:/Python_Projects/Recomendation_Systems/kinopoisk-top250.csv')\n",
    "book_description.head()"
   ]
  },
  {
   "cell_type": "code",
   "execution_count": 11,
   "id": "b98c9535",
   "metadata": {},
   "outputs": [
    {
     "data": {
      "text/plain": [
       "(250, 7353)"
      ]
     },
     "execution_count": 11,
     "metadata": {},
     "output_type": "execute_result"
    }
   ],
   "source": [
    "from sklearn.metrics.pairwise import linear_kernel #используется для вычисления меры сходства между двумя переменными.\n",
    "from sklearn.feature_extraction.text import TfidfVectorizer #статистическая мера, используемая для оценки важности слова \n",
    "#в контексте. Вес слова пропорционален частоте употребления этого слова в документе и обратно пропорционален частоте \n",
    "#употребления слова во всех документах коллекции.\n",
    "\n",
    "# Оценим размерность получившейся матрицы\n",
    "book_description = pd.read_csv('D:/Python_Projects/Recomendation_Systems/kinopoisk-top250.csv')\n",
    "\n",
    "book_description['overview'] = book_description['overview'].fillna('') # заменим значения NaN пустым значением\n",
    "\n",
    "# Рассчитываем матрицу TF-IDF, требуемую для расчета косинусной меры подобия текстов\n",
    "vectorizer = TfidfVectorizer()\n",
    "books_tfidf = vectorizer\n",
    "book_description_matrix = books_tfidf.fit_transform(book_description['overview'])\n",
    "\n",
    "# Оценим размерность получившейся матрицы\n",
    "book_description_matrix.shape"
   ]
  },
  {
   "cell_type": "code",
   "execution_count": null,
   "id": "b08796a1",
   "metadata": {},
   "outputs": [],
   "source": [
    "#В базе для описания 250 фильмов используется 7353 слов. "
   ]
  },
  {
   "cell_type": "code",
   "execution_count": 28,
   "id": "84ae827c",
   "metadata": {},
   "outputs": [
    {
     "name": "stdout",
     "output_type": "stream",
     "text": [
      "217                       Ураган \n",
      "135           Жизнь Дэвида Гейла \n",
      "57     Терминатор 2: Судный день \n",
      "Name: movie, dtype: object\n"
     ]
    }
   ],
   "source": [
    "# косинусная мера сходства\n",
    "cosine_similarity = linear_kernel(book_description_matrix, book_description_matrix)\n",
    "\n",
    "# попарные оценки сходства всех фильмов по сравнению с фильмом, переданным по индексу (фильм 1)\n",
    "similarity_scores = list(enumerate(cosine_similarity[1]))\n",
    "similarity_scores = sorted(similarity_scores, key=lambda x: x[1], reverse=True)\n",
    "similarity_scores = similarity_scores[1:4]\n",
    "\n",
    "books_index = [i[0] for i in similarity_scores] # индекс похожих фильмов\n",
    "\n",
    "# Топ 3 наиболее похожих фильмов, используя индексацию iloc\n",
    "print (book_description['movie'].iloc[books_index])"
   ]
  }
 ],
 "metadata": {
  "kernelspec": {
   "display_name": "Python [conda env:PythonGPU]",
   "language": "python",
   "name": "conda-env-PythonGPU-py"
  },
  "language_info": {
   "codemirror_mode": {
    "name": "ipython",
    "version": 3
   },
   "file_extension": ".py",
   "mimetype": "text/x-python",
   "name": "python",
   "nbconvert_exporter": "python",
   "pygments_lexer": "ipython3",
   "version": "3.8.8"
  }
 },
 "nbformat": 4,
 "nbformat_minor": 5
}
