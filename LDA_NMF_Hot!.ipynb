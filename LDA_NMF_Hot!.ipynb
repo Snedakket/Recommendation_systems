{
 "cells": [
  {
   "cell_type": "code",
   "execution_count": null,
   "id": "0ee1d804",
   "metadata": {},
   "outputs": [],
   "source": [
    "# Topic model- тематическое моделирование-анализ больших объемов текстовых данных путем кластеризации документов в группы. \n",
    "# Текстовые данные не имеют прикрепленных к ним меток.Topic model пытается сгруппировать документы в кластеры на основе сходных \n",
    "# характеристик. Используются два подхода: Латентное распределение Дирихле и Неотрицательная матричная факторизация. "
   ]
  },
  {
   "cell_type": "code",
   "execution_count": null,
   "id": "61c251a2",
   "metadata": {},
   "outputs": [],
   "source": [
    "# Латентное распределение Дирихле (LDA)- основывается на двух общих предположениях:\n",
    "# Документы с похожими словами обычно имеют одну и ту же тему, т.е. документы-это распределения вероятностей по скрытым темам\n",
    "# Документы, в которых группы слов часто встречаются вместе, обычно имеют одну и ту же тему, т.е.темы-это распределения \n",
    "# вероятностей по словам"
   ]
  },
  {
   "cell_type": "code",
   "execution_count": 1,
   "id": "9dd62c4e",
   "metadata": {},
   "outputs": [
    {
     "data": {
      "text/html": [
       "<div>\n",
       "<style scoped>\n",
       "    .dataframe tbody tr th:only-of-type {\n",
       "        vertical-align: middle;\n",
       "    }\n",
       "\n",
       "    .dataframe tbody tr th {\n",
       "        vertical-align: top;\n",
       "    }\n",
       "\n",
       "    .dataframe thead th {\n",
       "        text-align: right;\n",
       "    }\n",
       "</style>\n",
       "<table border=\"1\" class=\"dataframe\">\n",
       "  <thead>\n",
       "    <tr style=\"text-align: right;\">\n",
       "      <th></th>\n",
       "      <th>Id</th>\n",
       "      <th>ProfileName</th>\n",
       "      <th>ratings</th>\n",
       "      <th>Time</th>\n",
       "      <th>Summary</th>\n",
       "      <th>review</th>\n",
       "    </tr>\n",
       "  </thead>\n",
       "  <tbody>\n",
       "    <tr>\n",
       "      <th>0</th>\n",
       "      <td>1</td>\n",
       "      <td>delmartian</td>\n",
       "      <td>5</td>\n",
       "      <td>1303862400</td>\n",
       "      <td>Good Quality Dog Food</td>\n",
       "      <td>I have bought several of the Vitality canned d...</td>\n",
       "    </tr>\n",
       "    <tr>\n",
       "      <th>1</th>\n",
       "      <td>2</td>\n",
       "      <td>dll pa</td>\n",
       "      <td>1</td>\n",
       "      <td>1346976000</td>\n",
       "      <td>Not as Advertised</td>\n",
       "      <td>Product arrived labeled as Jumbo Salted Peanut...</td>\n",
       "    </tr>\n",
       "    <tr>\n",
       "      <th>2</th>\n",
       "      <td>3</td>\n",
       "      <td>Natalia Corres \"Natalia Corres\"</td>\n",
       "      <td>4</td>\n",
       "      <td>1219017600</td>\n",
       "      <td>\"Delight\" says it all</td>\n",
       "      <td>This is a confection that has been around a fe...</td>\n",
       "    </tr>\n",
       "    <tr>\n",
       "      <th>3</th>\n",
       "      <td>4</td>\n",
       "      <td>Karl</td>\n",
       "      <td>2</td>\n",
       "      <td>1307923200</td>\n",
       "      <td>Cough Medicine</td>\n",
       "      <td>If you are looking for the secret ingredient i...</td>\n",
       "    </tr>\n",
       "    <tr>\n",
       "      <th>4</th>\n",
       "      <td>5</td>\n",
       "      <td>Michael D. Bigham \"M. Wassir\"</td>\n",
       "      <td>5</td>\n",
       "      <td>1350777600</td>\n",
       "      <td>Great taffy</td>\n",
       "      <td>Great taffy at a great price.  There was a wid...</td>\n",
       "    </tr>\n",
       "  </tbody>\n",
       "</table>\n",
       "</div>"
      ],
      "text/plain": [
       "   Id                      ProfileName  ratings        Time  \\\n",
       "0   1                       delmartian        5  1303862400   \n",
       "1   2                           dll pa        1  1346976000   \n",
       "2   3  Natalia Corres \"Natalia Corres\"        4  1219017600   \n",
       "3   4                             Karl        2  1307923200   \n",
       "4   5    Michael D. Bigham \"M. Wassir\"        5  1350777600   \n",
       "\n",
       "                 Summary                                             review  \n",
       "0  Good Quality Dog Food  I have bought several of the Vitality canned d...  \n",
       "1      Not as Advertised  Product arrived labeled as Jumbo Salted Peanut...  \n",
       "2  \"Delight\" says it all  This is a confection that has been around a fe...  \n",
       "3         Cough Medicine  If you are looking for the secret ingredient i...  \n",
       "4            Great taffy  Great taffy at a great price.  There was a wid...  "
      ]
     },
     "execution_count": 1,
     "metadata": {},
     "output_type": "execute_result"
    }
   ],
   "source": [
    "import numpy as np\n",
    "import pandas as pd\n",
    "\n",
    "reviews_datasets = pd.read_csv('D:/Python_Projects/Recomendation_Systems/reviews.csv')\n",
    "reviews_datasets = reviews_datasets.head(5000) # фильтруем первые 5000 строк\n",
    "reviews_datasets.dropna() # удаляем нулевые значения из набора данных.\n",
    "\n",
    "reviews_datasets.head() # печатаем первые пять строк набора данных"
   ]
  },
  {
   "cell_type": "code",
   "execution_count": null,
   "id": "50729f72",
   "metadata": {},
   "outputs": [],
   "source": [
    "reviews_datasets['review'][500] # применим LDA к столбцу review, посмотрим номер 500"
   ]
  },
  {
   "cell_type": "code",
   "execution_count": 2,
   "id": "95c846fe",
   "metadata": {},
   "outputs": [
    {
     "data": {
      "text/plain": [
       "<5000x7013 sparse matrix of type '<class 'numpy.int64'>'\n",
       "\twith 139322 stored elements in Compressed Sparse Row format>"
      ]
     },
     "execution_count": 2,
     "metadata": {},
     "output_type": "execute_result"
    }
   ],
   "source": [
    "#Прежде чем применить LDA, создадим словарь всех слов в наших данных. \n",
    "\n",
    "from sklearn.feature_extraction.text import CountVectorizer #создание матрицы терминов документа\n",
    "count_vect = CountVectorizer(max_df=0.8, min_df=3, stop_words='english') #включаем только те слова, которые появляются \n",
    "#менее чем в 80% документа и появляются как минимум в 3 документах и удаляем все стоп-слова\n",
    "doc_term_matrix = count_vect.fit_transform(reviews_datasets['review'].values.astype('U'))\n",
    "doc_term_matrix"
   ]
  },
  {
   "cell_type": "code",
   "execution_count": null,
   "id": "c08449fc",
   "metadata": {},
   "outputs": [],
   "source": [
    "# Каждый из 5000 документов представлен в виде 7013-мерного вектора, что означает, что словарь содержит 7013 слов."
   ]
  },
  {
   "cell_type": "code",
   "execution_count": 29,
   "id": "40967b54",
   "metadata": {},
   "outputs": [
    {
     "data": {
      "text/html": [
       "<style>#sk-container-id-3 {color: black;background-color: white;}#sk-container-id-3 pre{padding: 0;}#sk-container-id-3 div.sk-toggleable {background-color: white;}#sk-container-id-3 label.sk-toggleable__label {cursor: pointer;display: block;width: 100%;margin-bottom: 0;padding: 0.3em;box-sizing: border-box;text-align: center;}#sk-container-id-3 label.sk-toggleable__label-arrow:before {content: \"▸\";float: left;margin-right: 0.25em;color: #696969;}#sk-container-id-3 label.sk-toggleable__label-arrow:hover:before {color: black;}#sk-container-id-3 div.sk-estimator:hover label.sk-toggleable__label-arrow:before {color: black;}#sk-container-id-3 div.sk-toggleable__content {max-height: 0;max-width: 0;overflow: hidden;text-align: left;background-color: #f0f8ff;}#sk-container-id-3 div.sk-toggleable__content pre {margin: 0.2em;color: black;border-radius: 0.25em;background-color: #f0f8ff;}#sk-container-id-3 input.sk-toggleable__control:checked~div.sk-toggleable__content {max-height: 200px;max-width: 100%;overflow: auto;}#sk-container-id-3 input.sk-toggleable__control:checked~label.sk-toggleable__label-arrow:before {content: \"▾\";}#sk-container-id-3 div.sk-estimator input.sk-toggleable__control:checked~label.sk-toggleable__label {background-color: #d4ebff;}#sk-container-id-3 div.sk-label input.sk-toggleable__control:checked~label.sk-toggleable__label {background-color: #d4ebff;}#sk-container-id-3 input.sk-hidden--visually {border: 0;clip: rect(1px 1px 1px 1px);clip: rect(1px, 1px, 1px, 1px);height: 1px;margin: -1px;overflow: hidden;padding: 0;position: absolute;width: 1px;}#sk-container-id-3 div.sk-estimator {font-family: monospace;background-color: #f0f8ff;border: 1px dotted black;border-radius: 0.25em;box-sizing: border-box;margin-bottom: 0.5em;}#sk-container-id-3 div.sk-estimator:hover {background-color: #d4ebff;}#sk-container-id-3 div.sk-parallel-item::after {content: \"\";width: 100%;border-bottom: 1px solid gray;flex-grow: 1;}#sk-container-id-3 div.sk-label:hover label.sk-toggleable__label {background-color: #d4ebff;}#sk-container-id-3 div.sk-serial::before {content: \"\";position: absolute;border-left: 1px solid gray;box-sizing: border-box;top: 0;bottom: 0;left: 50%;z-index: 0;}#sk-container-id-3 div.sk-serial {display: flex;flex-direction: column;align-items: center;background-color: white;padding-right: 0.2em;padding-left: 0.2em;position: relative;}#sk-container-id-3 div.sk-item {position: relative;z-index: 1;}#sk-container-id-3 div.sk-parallel {display: flex;align-items: stretch;justify-content: center;background-color: white;position: relative;}#sk-container-id-3 div.sk-item::before, #sk-container-id-3 div.sk-parallel-item::before {content: \"\";position: absolute;border-left: 1px solid gray;box-sizing: border-box;top: 0;bottom: 0;left: 50%;z-index: -1;}#sk-container-id-3 div.sk-parallel-item {display: flex;flex-direction: column;z-index: 1;position: relative;background-color: white;}#sk-container-id-3 div.sk-parallel-item:first-child::after {align-self: flex-end;width: 50%;}#sk-container-id-3 div.sk-parallel-item:last-child::after {align-self: flex-start;width: 50%;}#sk-container-id-3 div.sk-parallel-item:only-child::after {width: 0;}#sk-container-id-3 div.sk-dashed-wrapped {border: 1px dashed gray;margin: 0 0.4em 0.5em 0.4em;box-sizing: border-box;padding-bottom: 0.4em;background-color: white;}#sk-container-id-3 div.sk-label label {font-family: monospace;font-weight: bold;display: inline-block;line-height: 1.2em;}#sk-container-id-3 div.sk-label-container {text-align: center;}#sk-container-id-3 div.sk-container {/* jupyter's `normalize.less` sets `[hidden] { display: none; }` but bootstrap.min.css set `[hidden] { display: none !important; }` so we also need the `!important` here to be able to override the default hidden behavior on the sphinx rendered scikit-learn.org. See: https://github.com/scikit-learn/scikit-learn/issues/21755 */display: inline-block !important;position: relative;}#sk-container-id-3 div.sk-text-repr-fallback {display: none;}</style><div id=\"sk-container-id-3\" class=\"sk-top-container\"><div class=\"sk-text-repr-fallback\"><pre>LatentDirichletAllocation(n_components=8, random_state=30)</pre><b>In a Jupyter environment, please rerun this cell to show the HTML representation or trust the notebook. <br />On GitHub, the HTML representation is unable to render, please try loading this page with nbviewer.org.</b></div><div class=\"sk-container\" hidden><div class=\"sk-item\"><div class=\"sk-estimator sk-toggleable\"><input class=\"sk-toggleable__control sk-hidden--visually\" id=\"sk-estimator-id-3\" type=\"checkbox\" checked><label for=\"sk-estimator-id-3\" class=\"sk-toggleable__label sk-toggleable__label-arrow\">LatentDirichletAllocation</label><div class=\"sk-toggleable__content\"><pre>LatentDirichletAllocation(n_components=8, random_state=30)</pre></div></div></div></div></div>"
      ],
      "text/plain": [
       "LatentDirichletAllocation(n_components=8, random_state=30)"
      ]
     },
     "execution_count": 29,
     "metadata": {},
     "output_type": "execute_result"
    }
   ],
   "source": [
    "# Используем LDA для создания тем вместе с распределением вероятностей для каждого слова в словаре для каждой темы.\n",
    "from sklearn.decomposition import LatentDirichletAllocation\n",
    "LDA = LatentDirichletAllocation(n_components=8, random_state=30) #n_components- количество тем, на которые хотим разделить текст\n",
    "LDA.fit(doc_term_matrix)"
   ]
  },
  {
   "cell_type": "code",
   "execution_count": 30,
   "id": "39858c68",
   "metadata": {},
   "outputs": [
    {
     "name": "stdout",
     "output_type": "stream",
     "text": [
      "concoction\n",
      "site\n",
      "ramen\n",
      "women\n",
      "lunch\n",
      "falling\n",
      "mate\n",
      "useful\n"
     ]
    }
   ],
   "source": [
    "# Cлучайным образом извлечем 8 слов из словаря\n",
    "import random\n",
    "\n",
    "for i in range(8):\n",
    "    random_id = random.randint(0,len(count_vect.get_feature_names_out()))\n",
    "    print(count_vect.get_feature_names_out()[random_id])"
   ]
  },
  {
   "cell_type": "code",
   "execution_count": 31,
   "id": "dfb6c67c",
   "metadata": {},
   "outputs": [
    {
     "name": "stdout",
     "output_type": "stream",
     "text": [
      "[5.09340743 0.29623534 0.12524734 ... 0.12500005 0.1251496  0.12511594]\n"
     ]
    }
   ],
   "source": [
    "first_topic = LDA.components_[0]\n",
    "print(first_topic)"
   ]
  },
  {
   "cell_type": "code",
   "execution_count": 32,
   "id": "21dbf8e8",
   "metadata": {},
   "outputs": [
    {
     "name": "stdout",
     "output_type": "stream",
     "text": [
      "[5.09340743 0.29623534 0.12524734 ... 0.12500005 0.1251496  0.12511594]\n"
     ]
    }
   ],
   "source": [
    "# Найдем 8 слов с наибольшей вероятностью для первой темы.\n",
    "top_topic_words = first_topic.argsort()[-8:]\n",
    "print(first_topic)"
   ]
  },
  {
   "cell_type": "code",
   "execution_count": 33,
   "id": "d6fdf9ee",
   "metadata": {},
   "outputs": [
    {
     "name": "stdout",
     "output_type": "stream",
     "text": [
      "dumplings\n",
      "flipside\n",
      "burritos\n",
      "gamble\n",
      "drank\n",
      "breezy\n",
      "exercising\n",
      "bakery\n"
     ]
    }
   ],
   "source": [
    "# Получившиеся индексы можно использовать для извлечения значения слов из объекта count_vector\n",
    "for i in top_topic_words:\n",
    "    print(count_vect.get_feature_names_out()[i])"
   ]
  },
  {
   "cell_type": "code",
   "execution_count": 34,
   "id": "37db1a17",
   "metadata": {},
   "outputs": [],
   "source": [
    "# Слова показывают, что первая тема может быть о картошке фри"
   ]
  },
  {
   "cell_type": "code",
   "execution_count": 39,
   "id": "5f4a6331",
   "metadata": {},
   "outputs": [
    {
     "name": "stdout",
     "output_type": "stream",
     "text": [
      "Top 8 words for topic #0:\n",
      "['dumplings', 'flipside', 'burritos', 'gamble', 'drank', 'breezy', 'exercising', 'bakery']\n",
      "\n",
      "\n",
      "Top 8 words for topic #1:\n",
      "['akg', 'ideas', 'gnc', 'drank', 'leery', 'gadget', 'dumplings', 'bakery']\n",
      "\n",
      "\n",
      "Top 8 words for topic #2:\n",
      "['kind', 'gimbal', 'experienced', 'relative', 'killing', 'kills', 'fluctuates', 'killed']\n",
      "\n",
      "\n",
      "Top 8 words for topic #3:\n",
      "['inch', 'bakery', 'leery', 'honey', 'dumplings', 'consistency', 'consider', 'dicing']\n",
      "\n",
      "\n",
      "Top 8 words for topic #4:\n",
      "['reduces', 'desire', 'drank', 'pleasing', 'gamble', 'pockets', 'bakery', 'bust']\n",
      "\n",
      "\n",
      "Top 8 words for topic #5:\n",
      "['gamble', 'drank', 'inputs', 'diluted', 'leery', 'doorstep', 'head', 'bakery']\n",
      "\n",
      "\n",
      "Top 8 words for topic #6:\n",
      "['antioxidants', 'gnc', 'desire', 'known', 'dumplings', 'mild', 'bakery', 'breed']\n",
      "\n",
      "\n",
      "Top 8 words for topic #7:\n",
      "['book', 'gobbles', 'consistency', 'adding', 'honey', 'preserved', 'consider', 'dicing']\n",
      "\n",
      "\n"
     ]
    }
   ],
   "source": [
    "# Напечатаем 8 слов с наибольшей вероятностью для всех 8 тем:\n",
    "for i,topic in enumerate(LDA.components_):\n",
    "    print(f'Top 8 words for topic #{i}:')\n",
    "    print([count_vect.get_feature_names_out()[i] for i in topic.argsort()[-8:]])\n",
    "    print('\\n')"
   ]
  },
  {
   "cell_type": "code",
   "execution_count": 40,
   "id": "ea062b0c",
   "metadata": {},
   "outputs": [
    {
     "data": {
      "text/plain": [
       "(5000, 8)"
      ]
     },
     "execution_count": 40,
     "metadata": {},
     "output_type": "execute_result"
    }
   ],
   "source": [
    "topic_values = LDA.transform(doc_term_matrix) # добавим столбец в исходный фрейм данных, в котором будет храниться \n",
    "#тема для текста\n",
    "topic_values.shape"
   ]
  },
  {
   "cell_type": "code",
   "execution_count": 41,
   "id": "3725469b",
   "metadata": {},
   "outputs": [],
   "source": [
    "#(5000, 8) означает, что каждый документ имеет 5 столбцов, где каждый столбец соответствует значению \n",
    "# вероятности конкретной темы. "
   ]
  },
  {
   "cell_type": "code",
   "execution_count": 42,
   "id": "a85202f7",
   "metadata": {},
   "outputs": [
    {
     "data": {
      "text/html": [
       "<div>\n",
       "<style scoped>\n",
       "    .dataframe tbody tr th:only-of-type {\n",
       "        vertical-align: middle;\n",
       "    }\n",
       "\n",
       "    .dataframe tbody tr th {\n",
       "        vertical-align: top;\n",
       "    }\n",
       "\n",
       "    .dataframe thead th {\n",
       "        text-align: right;\n",
       "    }\n",
       "</style>\n",
       "<table border=\"1\" class=\"dataframe\">\n",
       "  <thead>\n",
       "    <tr style=\"text-align: right;\">\n",
       "      <th></th>\n",
       "      <th>Id</th>\n",
       "      <th>ProfileName</th>\n",
       "      <th>ratings</th>\n",
       "      <th>Time</th>\n",
       "      <th>Summary</th>\n",
       "      <th>review</th>\n",
       "      <th>Topic</th>\n",
       "    </tr>\n",
       "  </thead>\n",
       "  <tbody>\n",
       "    <tr>\n",
       "      <th>0</th>\n",
       "      <td>1</td>\n",
       "      <td>delmartian</td>\n",
       "      <td>5</td>\n",
       "      <td>1303862400</td>\n",
       "      <td>Good Quality Dog Food</td>\n",
       "      <td>I have bought several of the Vitality canned d...</td>\n",
       "      <td>3</td>\n",
       "    </tr>\n",
       "    <tr>\n",
       "      <th>1</th>\n",
       "      <td>2</td>\n",
       "      <td>dll pa</td>\n",
       "      <td>1</td>\n",
       "      <td>1346976000</td>\n",
       "      <td>Not as Advertised</td>\n",
       "      <td>Product arrived labeled as Jumbo Salted Peanut...</td>\n",
       "      <td>3</td>\n",
       "    </tr>\n",
       "    <tr>\n",
       "      <th>2</th>\n",
       "      <td>3</td>\n",
       "      <td>Natalia Corres \"Natalia Corres\"</td>\n",
       "      <td>4</td>\n",
       "      <td>1219017600</td>\n",
       "      <td>\"Delight\" says it all</td>\n",
       "      <td>This is a confection that has been around a fe...</td>\n",
       "      <td>5</td>\n",
       "    </tr>\n",
       "    <tr>\n",
       "      <th>3</th>\n",
       "      <td>4</td>\n",
       "      <td>Karl</td>\n",
       "      <td>2</td>\n",
       "      <td>1307923200</td>\n",
       "      <td>Cough Medicine</td>\n",
       "      <td>If you are looking for the secret ingredient i...</td>\n",
       "      <td>5</td>\n",
       "    </tr>\n",
       "    <tr>\n",
       "      <th>4</th>\n",
       "      <td>5</td>\n",
       "      <td>Michael D. Bigham \"M. Wassir\"</td>\n",
       "      <td>5</td>\n",
       "      <td>1350777600</td>\n",
       "      <td>Great taffy</td>\n",
       "      <td>Great taffy at a great price.  There was a wid...</td>\n",
       "      <td>1</td>\n",
       "    </tr>\n",
       "  </tbody>\n",
       "</table>\n",
       "</div>"
      ],
      "text/plain": [
       "   Id                      ProfileName  ratings        Time  \\\n",
       "0   1                       delmartian        5  1303862400   \n",
       "1   2                           dll pa        1  1346976000   \n",
       "2   3  Natalia Corres \"Natalia Corres\"        4  1219017600   \n",
       "3   4                             Karl        2  1307923200   \n",
       "4   5    Michael D. Bigham \"M. Wassir\"        5  1350777600   \n",
       "\n",
       "                 Summary                                             review  \\\n",
       "0  Good Quality Dog Food  I have bought several of the Vitality canned d...   \n",
       "1      Not as Advertised  Product arrived labeled as Jumbo Salted Peanut...   \n",
       "2  \"Delight\" says it all  This is a confection that has been around a fe...   \n",
       "3         Cough Medicine  If you are looking for the secret ingredient i...   \n",
       "4            Great taffy  Great taffy at a great price.  There was a wid...   \n",
       "\n",
       "   Topic  \n",
       "0      3  \n",
       "1      3  \n",
       "2      5  \n",
       "3      5  \n",
       "4      1  "
      ]
     },
     "execution_count": 42,
     "metadata": {},
     "output_type": "execute_result"
    }
   ],
   "source": [
    "# Добавляем новый столбец для темы во фрейме данных и присваиваем значение темы каждой строке в столбце:\n",
    "reviews_datasets['Topic'] = topic_values.argmax(axis=1)\n",
    "reviews_datasets.head()"
   ]
  },
  {
   "cell_type": "code",
   "execution_count": 43,
   "id": "268c8a49",
   "metadata": {},
   "outputs": [],
   "source": [
    "# Неотрицательная матричная факторизация (NMF)-выполняет кластеризацию, а также уменьшение размерности, может быть использована\n",
    "# в сочетании со схемой TF-IDF для выполнения тематического моделирования."
   ]
  },
  {
   "cell_type": "code",
   "execution_count": 44,
   "id": "d648630e",
   "metadata": {},
   "outputs": [
    {
     "data": {
      "text/html": [
       "<div>\n",
       "<style scoped>\n",
       "    .dataframe tbody tr th:only-of-type {\n",
       "        vertical-align: middle;\n",
       "    }\n",
       "\n",
       "    .dataframe tbody tr th {\n",
       "        vertical-align: top;\n",
       "    }\n",
       "\n",
       "    .dataframe thead th {\n",
       "        text-align: right;\n",
       "    }\n",
       "</style>\n",
       "<table border=\"1\" class=\"dataframe\">\n",
       "  <thead>\n",
       "    <tr style=\"text-align: right;\">\n",
       "      <th></th>\n",
       "      <th>Id</th>\n",
       "      <th>ProfileName</th>\n",
       "      <th>ratings</th>\n",
       "      <th>Time</th>\n",
       "      <th>Summary</th>\n",
       "      <th>review</th>\n",
       "    </tr>\n",
       "  </thead>\n",
       "  <tbody>\n",
       "    <tr>\n",
       "      <th>0</th>\n",
       "      <td>1</td>\n",
       "      <td>delmartian</td>\n",
       "      <td>5</td>\n",
       "      <td>1303862400</td>\n",
       "      <td>Good Quality Dog Food</td>\n",
       "      <td>I have bought several of the Vitality canned d...</td>\n",
       "    </tr>\n",
       "    <tr>\n",
       "      <th>1</th>\n",
       "      <td>2</td>\n",
       "      <td>dll pa</td>\n",
       "      <td>1</td>\n",
       "      <td>1346976000</td>\n",
       "      <td>Not as Advertised</td>\n",
       "      <td>Product arrived labeled as Jumbo Salted Peanut...</td>\n",
       "    </tr>\n",
       "    <tr>\n",
       "      <th>2</th>\n",
       "      <td>3</td>\n",
       "      <td>Natalia Corres \"Natalia Corres\"</td>\n",
       "      <td>4</td>\n",
       "      <td>1219017600</td>\n",
       "      <td>\"Delight\" says it all</td>\n",
       "      <td>This is a confection that has been around a fe...</td>\n",
       "    </tr>\n",
       "    <tr>\n",
       "      <th>3</th>\n",
       "      <td>4</td>\n",
       "      <td>Karl</td>\n",
       "      <td>2</td>\n",
       "      <td>1307923200</td>\n",
       "      <td>Cough Medicine</td>\n",
       "      <td>If you are looking for the secret ingredient i...</td>\n",
       "    </tr>\n",
       "    <tr>\n",
       "      <th>4</th>\n",
       "      <td>5</td>\n",
       "      <td>Michael D. Bigham \"M. Wassir\"</td>\n",
       "      <td>5</td>\n",
       "      <td>1350777600</td>\n",
       "      <td>Great taffy</td>\n",
       "      <td>Great taffy at a great price.  There was a wid...</td>\n",
       "    </tr>\n",
       "  </tbody>\n",
       "</table>\n",
       "</div>"
      ],
      "text/plain": [
       "   Id                      ProfileName  ratings        Time  \\\n",
       "0   1                       delmartian        5  1303862400   \n",
       "1   2                           dll pa        1  1346976000   \n",
       "2   3  Natalia Corres \"Natalia Corres\"        4  1219017600   \n",
       "3   4                             Karl        2  1307923200   \n",
       "4   5    Michael D. Bigham \"M. Wassir\"        5  1350777600   \n",
       "\n",
       "                 Summary                                             review  \n",
       "0  Good Quality Dog Food  I have bought several of the Vitality canned d...  \n",
       "1      Not as Advertised  Product arrived labeled as Jumbo Salted Peanut...  \n",
       "2  \"Delight\" says it all  This is a confection that has been around a fe...  \n",
       "3         Cough Medicine  If you are looking for the secret ingredient i...  \n",
       "4            Great taffy  Great taffy at a great price.  There was a wid...  "
      ]
     },
     "execution_count": 44,
     "metadata": {},
     "output_type": "execute_result"
    }
   ],
   "source": [
    "import pandas as pd\n",
    "import numpy as np\n",
    "reviews_datasets = pd.read_csv('D:/Python_Projects/Recomendation_Systems/reviews.csv')\n",
    "reviews_datasets = reviews_datasets.head(5000)\n",
    "reviews_datasets.dropna()\n",
    "reviews_datasets.head()"
   ]
  },
  {
   "cell_type": "code",
   "execution_count": 45,
   "id": "14bd9494",
   "metadata": {},
   "outputs": [],
   "source": [
    "# Cоздадим матрицу терминов документа с помощью TF IDF.\n",
    "from sklearn.feature_extraction.text import TfidfVectorizer\n",
    "\n",
    "tfidf_vect = TfidfVectorizer(max_df=0.8, min_df=3, stop_words='english')\n",
    "doc_term_matrix = tfidf_vect.fit_transform(reviews_datasets['review'].values.astype('U'))"
   ]
  },
  {
   "cell_type": "code",
   "execution_count": 46,
   "id": "3c4eb6c4",
   "metadata": {},
   "outputs": [
    {
     "data": {
      "text/html": [
       "<style>#sk-container-id-4 {color: black;background-color: white;}#sk-container-id-4 pre{padding: 0;}#sk-container-id-4 div.sk-toggleable {background-color: white;}#sk-container-id-4 label.sk-toggleable__label {cursor: pointer;display: block;width: 100%;margin-bottom: 0;padding: 0.3em;box-sizing: border-box;text-align: center;}#sk-container-id-4 label.sk-toggleable__label-arrow:before {content: \"▸\";float: left;margin-right: 0.25em;color: #696969;}#sk-container-id-4 label.sk-toggleable__label-arrow:hover:before {color: black;}#sk-container-id-4 div.sk-estimator:hover label.sk-toggleable__label-arrow:before {color: black;}#sk-container-id-4 div.sk-toggleable__content {max-height: 0;max-width: 0;overflow: hidden;text-align: left;background-color: #f0f8ff;}#sk-container-id-4 div.sk-toggleable__content pre {margin: 0.2em;color: black;border-radius: 0.25em;background-color: #f0f8ff;}#sk-container-id-4 input.sk-toggleable__control:checked~div.sk-toggleable__content {max-height: 200px;max-width: 100%;overflow: auto;}#sk-container-id-4 input.sk-toggleable__control:checked~label.sk-toggleable__label-arrow:before {content: \"▾\";}#sk-container-id-4 div.sk-estimator input.sk-toggleable__control:checked~label.sk-toggleable__label {background-color: #d4ebff;}#sk-container-id-4 div.sk-label input.sk-toggleable__control:checked~label.sk-toggleable__label {background-color: #d4ebff;}#sk-container-id-4 input.sk-hidden--visually {border: 0;clip: rect(1px 1px 1px 1px);clip: rect(1px, 1px, 1px, 1px);height: 1px;margin: -1px;overflow: hidden;padding: 0;position: absolute;width: 1px;}#sk-container-id-4 div.sk-estimator {font-family: monospace;background-color: #f0f8ff;border: 1px dotted black;border-radius: 0.25em;box-sizing: border-box;margin-bottom: 0.5em;}#sk-container-id-4 div.sk-estimator:hover {background-color: #d4ebff;}#sk-container-id-4 div.sk-parallel-item::after {content: \"\";width: 100%;border-bottom: 1px solid gray;flex-grow: 1;}#sk-container-id-4 div.sk-label:hover label.sk-toggleable__label {background-color: #d4ebff;}#sk-container-id-4 div.sk-serial::before {content: \"\";position: absolute;border-left: 1px solid gray;box-sizing: border-box;top: 0;bottom: 0;left: 50%;z-index: 0;}#sk-container-id-4 div.sk-serial {display: flex;flex-direction: column;align-items: center;background-color: white;padding-right: 0.2em;padding-left: 0.2em;position: relative;}#sk-container-id-4 div.sk-item {position: relative;z-index: 1;}#sk-container-id-4 div.sk-parallel {display: flex;align-items: stretch;justify-content: center;background-color: white;position: relative;}#sk-container-id-4 div.sk-item::before, #sk-container-id-4 div.sk-parallel-item::before {content: \"\";position: absolute;border-left: 1px solid gray;box-sizing: border-box;top: 0;bottom: 0;left: 50%;z-index: -1;}#sk-container-id-4 div.sk-parallel-item {display: flex;flex-direction: column;z-index: 1;position: relative;background-color: white;}#sk-container-id-4 div.sk-parallel-item:first-child::after {align-self: flex-end;width: 50%;}#sk-container-id-4 div.sk-parallel-item:last-child::after {align-self: flex-start;width: 50%;}#sk-container-id-4 div.sk-parallel-item:only-child::after {width: 0;}#sk-container-id-4 div.sk-dashed-wrapped {border: 1px dashed gray;margin: 0 0.4em 0.5em 0.4em;box-sizing: border-box;padding-bottom: 0.4em;background-color: white;}#sk-container-id-4 div.sk-label label {font-family: monospace;font-weight: bold;display: inline-block;line-height: 1.2em;}#sk-container-id-4 div.sk-label-container {text-align: center;}#sk-container-id-4 div.sk-container {/* jupyter's `normalize.less` sets `[hidden] { display: none; }` but bootstrap.min.css set `[hidden] { display: none !important; }` so we also need the `!important` here to be able to override the default hidden behavior on the sphinx rendered scikit-learn.org. See: https://github.com/scikit-learn/scikit-learn/issues/21755 */display: inline-block !important;position: relative;}#sk-container-id-4 div.sk-text-repr-fallback {display: none;}</style><div id=\"sk-container-id-4\" class=\"sk-top-container\"><div class=\"sk-text-repr-fallback\"><pre>NMF(n_components=8, random_state=30)</pre><b>In a Jupyter environment, please rerun this cell to show the HTML representation or trust the notebook. <br />On GitHub, the HTML representation is unable to render, please try loading this page with nbviewer.org.</b></div><div class=\"sk-container\" hidden><div class=\"sk-item\"><div class=\"sk-estimator sk-toggleable\"><input class=\"sk-toggleable__control sk-hidden--visually\" id=\"sk-estimator-id-4\" type=\"checkbox\" checked><label for=\"sk-estimator-id-4\" class=\"sk-toggleable__label sk-toggleable__label-arrow\">NMF</label><div class=\"sk-toggleable__content\"><pre>NMF(n_components=8, random_state=30)</pre></div></div></div></div></div>"
      ],
      "text/plain": [
       "NMF(n_components=8, random_state=30)"
      ]
     },
     "execution_count": 46,
     "metadata": {},
     "output_type": "execute_result"
    }
   ],
   "source": [
    "# Создаем матрицу вероятностей, которая содержит вероятности всех слов в словаре для всех тем\n",
    "from sklearn.decomposition import NMF\n",
    "\n",
    "nmf = NMF(n_components=8, random_state=30)\n",
    "nmf.fit(doc_term_matrix )"
   ]
  },
  {
   "cell_type": "code",
   "execution_count": 47,
   "id": "0e6cc267",
   "metadata": {},
   "outputs": [
    {
     "name": "stdout",
     "output_type": "stream",
     "text": [
      "caribou\n",
      "sauce\n",
      "crab\n",
      "dimensional\n",
      "burst\n",
      "snacks\n",
      "female\n",
      "inhaled\n"
     ]
    }
   ],
   "source": [
    "# Cлучайным образом получим 8 слов из словаря\n",
    "\n",
    "import random\n",
    "\n",
    "for i in range(8):\n",
    "    random_id = random.randint(0,len(tfidf_vect.get_feature_names_out()))\n",
    "    print(tfidf_vect.get_feature_names_out()[random_id])"
   ]
  },
  {
   "cell_type": "code",
   "execution_count": 48,
   "id": "2e9e36be",
   "metadata": {},
   "outputs": [],
   "source": [
    "# Получим вектор вероятности слов для первой темы и получим индексы 8 слов с наибольшими вероятностями\n",
    "\n",
    "first_topic = nmf.components_[0]\n",
    "top_topic_words = first_topic.argsort()[-8:]"
   ]
  },
  {
   "cell_type": "code",
   "execution_count": 49,
   "id": "7302dbec",
   "metadata": {},
   "outputs": [
    {
     "name": "stdout",
     "output_type": "stream",
     "text": [
      "price\n",
      "taste\n",
      "love\n",
      "just\n",
      "like\n",
      "great\n",
      "good\n",
      "product\n"
     ]
    }
   ],
   "source": [
    "# Эти индексы могут быть переданы объекту tf idf_vector для извлечения фактических слов\n",
    "for i in top_topic_words:\n",
    "    print(tfidf_vect.get_feature_names_out()[i])"
   ]
  },
  {
   "cell_type": "code",
   "execution_count": 50,
   "id": "e9b9ecc3",
   "metadata": {},
   "outputs": [
    {
     "name": "stdout",
     "output_type": "stream",
     "text": [
      "Top 8 words for topic #0:\n",
      "['price', 'taste', 'love', 'just', 'like', 'great', 'good', 'product']\n",
      "\n",
      "\n",
      "Top 8 words for topic #1:\n",
      "['oil', 'amazon', 'use', 'ingredients', 'sugar', 'fat', 'water', 'br']\n",
      "\n",
      "\n",
      "Top 8 words for topic #2:\n",
      "['chip', 'flavor', 'vinegar', 'bag', 'kettle', 'potato', 'salt', 'chips']\n",
      "\n",
      "\n",
      "Top 8 words for topic #3:\n",
      "['make', 'waffles', 'pancake', 'bisquick', 'pancakes', 'free', 'mix', 'gluten']\n",
      "\n",
      "\n",
      "Top 8 words for topic #4:\n",
      "['black', 'like', 'water', 'teas', 'drink', 'iced', 'green', 'tea']\n",
      "\n",
      "\n",
      "Top 8 words for topic #5:\n",
      "['smooth', 'melitta', 'like', 'taste', 'strong', 'decaf', 'cup', 'coffee']\n",
      "\n",
      "\n",
      "Top 8 words for topic #6:\n",
      "['milk', 'tried', 'keurig', 'cups', 'cup', 'cocoa', 'hot', 'chocolate']\n",
      "\n",
      "\n",
      "Top 8 words for topic #7:\n",
      "['year', 'organic', 'old', 'loves', 'newman', 'dogs', 'dog', 'food']\n",
      "\n",
      "\n"
     ]
    }
   ],
   "source": [
    "#Напечатаем 8 слов с наибольшей вероятностью для каждой из тем\n",
    "\n",
    "for i,topic in enumerate(nmf.components_):\n",
    "    print(f'Top 8 words for topic #{i}:')\n",
    "    print([tfidf_vect.get_feature_names_out()[i] for i in topic.argsort()[-8:]])\n",
    "    print('\\n')"
   ]
  },
  {
   "cell_type": "code",
   "execution_count": 51,
   "id": "62a07ecf",
   "metadata": {},
   "outputs": [
    {
     "data": {
      "text/html": [
       "<div>\n",
       "<style scoped>\n",
       "    .dataframe tbody tr th:only-of-type {\n",
       "        vertical-align: middle;\n",
       "    }\n",
       "\n",
       "    .dataframe tbody tr th {\n",
       "        vertical-align: top;\n",
       "    }\n",
       "\n",
       "    .dataframe thead th {\n",
       "        text-align: right;\n",
       "    }\n",
       "</style>\n",
       "<table border=\"1\" class=\"dataframe\">\n",
       "  <thead>\n",
       "    <tr style=\"text-align: right;\">\n",
       "      <th></th>\n",
       "      <th>Id</th>\n",
       "      <th>ProfileName</th>\n",
       "      <th>ratings</th>\n",
       "      <th>Time</th>\n",
       "      <th>Summary</th>\n",
       "      <th>review</th>\n",
       "      <th>Topic</th>\n",
       "    </tr>\n",
       "  </thead>\n",
       "  <tbody>\n",
       "    <tr>\n",
       "      <th>0</th>\n",
       "      <td>1</td>\n",
       "      <td>delmartian</td>\n",
       "      <td>5</td>\n",
       "      <td>1303862400</td>\n",
       "      <td>Good Quality Dog Food</td>\n",
       "      <td>I have bought several of the Vitality canned d...</td>\n",
       "      <td>7</td>\n",
       "    </tr>\n",
       "    <tr>\n",
       "      <th>1</th>\n",
       "      <td>2</td>\n",
       "      <td>dll pa</td>\n",
       "      <td>1</td>\n",
       "      <td>1346976000</td>\n",
       "      <td>Not as Advertised</td>\n",
       "      <td>Product arrived labeled as Jumbo Salted Peanut...</td>\n",
       "      <td>0</td>\n",
       "    </tr>\n",
       "    <tr>\n",
       "      <th>2</th>\n",
       "      <td>3</td>\n",
       "      <td>Natalia Corres \"Natalia Corres\"</td>\n",
       "      <td>4</td>\n",
       "      <td>1219017600</td>\n",
       "      <td>\"Delight\" says it all</td>\n",
       "      <td>This is a confection that has been around a fe...</td>\n",
       "      <td>0</td>\n",
       "    </tr>\n",
       "    <tr>\n",
       "      <th>3</th>\n",
       "      <td>4</td>\n",
       "      <td>Karl</td>\n",
       "      <td>2</td>\n",
       "      <td>1307923200</td>\n",
       "      <td>Cough Medicine</td>\n",
       "      <td>If you are looking for the secret ingredient i...</td>\n",
       "      <td>0</td>\n",
       "    </tr>\n",
       "    <tr>\n",
       "      <th>4</th>\n",
       "      <td>5</td>\n",
       "      <td>Michael D. Bigham \"M. Wassir\"</td>\n",
       "      <td>5</td>\n",
       "      <td>1350777600</td>\n",
       "      <td>Great taffy</td>\n",
       "      <td>Great taffy at a great price.  There was a wid...</td>\n",
       "      <td>0</td>\n",
       "    </tr>\n",
       "  </tbody>\n",
       "</table>\n",
       "</div>"
      ],
      "text/plain": [
       "   Id                      ProfileName  ratings        Time  \\\n",
       "0   1                       delmartian        5  1303862400   \n",
       "1   2                           dll pa        1  1346976000   \n",
       "2   3  Natalia Corres \"Natalia Corres\"        4  1219017600   \n",
       "3   4                             Karl        2  1307923200   \n",
       "4   5    Michael D. Bigham \"M. Wassir\"        5  1350777600   \n",
       "\n",
       "                 Summary                                             review  \\\n",
       "0  Good Quality Dog Food  I have bought several of the Vitality canned d...   \n",
       "1      Not as Advertised  Product arrived labeled as Jumbo Salted Peanut...   \n",
       "2  \"Delight\" says it all  This is a confection that has been around a fe...   \n",
       "3         Cough Medicine  If you are looking for the secret ingredient i...   \n",
       "4            Great taffy  Great taffy at a great price.  There was a wid...   \n",
       "\n",
       "   Topic  \n",
       "0      7  \n",
       "1      0  \n",
       "2      0  \n",
       "3      0  \n",
       "4      0  "
      ]
     },
     "execution_count": 51,
     "metadata": {},
     "output_type": "execute_result"
    }
   ],
   "source": [
    "# Добавляем темы в набор данных и отображаем первые пять строк:\n",
    "topic_values = nmf.transform(doc_term_matrix)\n",
    "reviews_datasets['Topic'] = topic_values.argmax(axis=1)\n",
    "reviews_datasets.head()"
   ]
  },
  {
   "cell_type": "code",
   "execution_count": null,
   "id": "e4dff9e0",
   "metadata": {},
   "outputs": [],
   "source": [
    "# Каждому обзору была назначена тема, которая была сгенерирована с помощью метода NMF."
   ]
  }
 ],
 "metadata": {
  "kernelspec": {
   "display_name": "Python [conda env:PythonGPU]",
   "language": "python",
   "name": "conda-env-PythonGPU-py"
  },
  "language_info": {
   "codemirror_mode": {
    "name": "ipython",
    "version": 3
   },
   "file_extension": ".py",
   "mimetype": "text/x-python",
   "name": "python",
   "nbconvert_exporter": "python",
   "pygments_lexer": "ipython3",
   "version": "3.8.8"
  }
 },
 "nbformat": 4,
 "nbformat_minor": 5
}
